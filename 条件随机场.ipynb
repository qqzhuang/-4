{
 "cells": [
  {
   "cell_type": "markdown",
   "metadata": {},
   "source": [
    "# 条件随机场"
   ]
  },
  {
   "cell_type": "markdown",
   "metadata": {},
   "source": [
    "## 马尔可夫过程"
   ]
  },
  {
   "cell_type": "markdown",
   "metadata": {},
   "source": [
    "### 定义"
   ]
  },
  {
   "cell_type": "markdown",
   "metadata": {},
   "source": [
    "假设一个随机过程中，$t_n$ 时刻的状态$x_n$的条件发布，只与其前一状态$x_{n-1}$ 相关，即：\n",
    "\n",
    "$$\n",
    "    P(x_n|x_1,x_2,...,x_{n-1}) = P(x_n|x_{n-1})\n",
    "$$\n",
    "\n",
    "则将其称为 马尔可夫过程。\n",
    "\n",
    "![](img/马尔可夫过程.png)\n"
   ]
  },
  {
   "cell_type": "markdown",
   "metadata": {},
   "source": [
    "## 隐马尔科夫算法"
   ]
  },
  {
   "cell_type": "markdown",
   "metadata": {},
   "source": [
    "### 定义"
   ]
  },
  {
   "cell_type": "markdown",
   "metadata": {},
   "source": [
    "隐马尔科夫算法是对含有未知参数（隐状态）的马尔可夫链进行建模的生成模型，如下图所示：\n",
    "\n",
    "![](img/隐马尔科夫算法.png)\n",
    "\n",
    "在隐马尔科夫模型中，包含隐状态 和 观察状态，隐状态 $x_i$ 对于观察者而言是不可见的，而观察状态 $y_i$ 对于观察者而言是可见的。隐状态间存在转移概率，隐状态 $x_i$到对应的观察状态 $y_i$ 间存在输出概率。\n"
   ]
  },
  {
   "cell_type": "markdown",
   "metadata": {},
   "source": [
    "### 假设"
   ]
  },
  {
   "cell_type": "markdown",
   "metadata": {},
   "source": [
    "1. 假设隐状态$x_i$ 的状态满足马尔可夫过程，i时刻的状态$x_i$ 的条件分布，仅与其前一个状态$x_{i-1}$相关，即：\n",
    "\n",
    "$$\n",
    "    P(x_i|x_1,x_2,...,x_{i-1}) = P(x_i|x_{i-1})\n",
    "$$\n",
    "\n",
    "2. 假设观测序列中各个状态仅取决于它所对应的隐状态，即：\n",
    "\n",
    "$$\n",
    "    P(y_i|x_1,x_2,...,x_{i-1},y_1,y_2,...,y_{i-1},y_{i+1},...) = P(y_i|x_{i})\n",
    "$$"
   ]
  },
  {
   "cell_type": "markdown",
   "metadata": {},
   "source": [
    "### 存在问题"
   ]
  },
  {
   "cell_type": "markdown",
   "metadata": {},
   "source": [
    "在序列标注问题中，隐状态（标注）不仅和单个观测状态相关，还和观察序列的长度、上下文等信息相关。例如词性标注问题中，一个词被标注为动词还是名词，不仅与它本身以及它前一个词的标注有关，还依赖于上下文中的其他词。"
   ]
  },
  {
   "cell_type": "markdown",
   "metadata": {},
   "source": [
    "## 条件随机场 （以线性链条件随机场为例）"
   ]
  },
  {
   "cell_type": "markdown",
   "metadata": {},
   "source": [
    "### 定义"
   ]
  },
  {
   "cell_type": "markdown",
   "metadata": {},
   "source": [
    "给定 $X=(x_1,x_2,...,x_n)$ ，$Y=(y_1,y_2,...,y_n)$ 均为线性链表示的随机变量序列，若在给随机变量序列 X 的条件下，随机变量序列 Y 的条件概率分布 $P(Y|X)$ 构成条件随机场，即满足马尔可夫性：\n",
    "\n",
    "$$\n",
    "    P(y_i|x_1,x_2,...,x_{i-1},y_1,y_2,...,y_{i-1},y_{i+1})\n",
    "       = P(y_i|x,y_{i-1},y_{i+1})\n",
    "$$\n",
    "\n",
    "则称为 P(Y|X) 为线性链条件随机场。\n",
    "\n",
    "通过去除了隐马尔科夫算法中的观测状态相互独立假设，使算法在计算当前隐状态$x_i$时，会考虑整个观测序列，从而获得更高的表达能力，并进行全局归一化解决标注偏置问题。\n",
    "\n",
    "\n",
    "![条件随机场图片](img/条件随机场.png)\n"
   ]
  },
  {
   "cell_type": "markdown",
   "metadata": {},
   "source": [
    "#### 参数化形式"
   ]
  },
  {
   "cell_type": "markdown",
   "metadata": {},
   "source": [
    "$$\n",
    "p\\left(y | x\\right)=\\frac{1}{Z\\left(x\\right)} \\prod_{i=1}^{n} \\exp \\left(\\sum_{i, k} \\lambda_{k} t_{k}\\left(y_{i-1}, y_{i}, x, i\\right)+\\sum_{i, l} \\mu_{l} s_{l}\\left(y_{i}, x, i\\right)\\right)\n",
    "$$\n",
    "\n",
    "其中：\n",
    "\n",
    "> $Z(x)$ 为归一化因子，是在全局范围进行归一化，枚举了整个隐状态序列$x_{1…n}$的全部可能，从而解决了局部归一化带来的标注偏置问题。\n",
    "\n",
    "$$\n",
    "Z(x)=\\sum_{y} \\exp \\left(\\sum_{i, k} \\lambda_{x} t_{k}\\left(y_{i-1}, y_{i}, x, i\\right)+\\sum_{i, l} \\mu_{l} s_{l}\\left(y_{i}, x, i\\right)\\right)\n",
    "$$\n",
    "\n",
    "> $t_k$ 为定义在边上的特征函数，转移特征，依赖于前一个和当前位置\n",
    "\n",
    "> $s_1$ 为定义在节点上的特征函数，状态特征，依赖于当前位置。"
   ]
  },
  {
   "cell_type": "markdown",
   "metadata": {},
   "source": [
    "#### 简化形式"
   ]
  },
  {
   "cell_type": "markdown",
   "metadata": {},
   "source": [
    "因为条件随机场中同一特征在各个位置都有定义，所以可以对同一个特征在各个位置求和，将局部特征函数转化为一个全局特征函数，这样就可以将条件随机场写成权值向量和特征向量的内积形式，即条件随机场的简化形式。"
   ]
  },

  {
   "cell_type": "markdown",
   "metadata": {},
   "source": [
    "#### 矩阵形式"
   ]
  },
  {
   "cell_type": "markdown",
   "metadata": {},
   "source": [
    "> 推导 begin\n",
    "\n",
    "\n",
    "\n",
    "\n",
    "> 推导 end"
   ]
  },
  {
   "cell_type": "markdown",
   "metadata": {},
   "source": [
    "### 基本问题"
   ]
  },
  {
   "cell_type": "markdown",
   "metadata": {},
   "source": [
    "条件随机场包含概率计算问题、学习问题和预测问题三个问题。\n",
    "\n",
    "> 1. 概率计算问题：已知模型的所有参数，计算观测序列 $Y$ 出现的概率，常用方法：前向和后向算法；\n",
    "\n",
    "> 2. 学习问题：已知观测序列 $Y$，求解使得该观测序列概率最大的模型参数，包括隐状态序列、隐状态间的转移概率分布和从隐状态到观测状态的概率分布，常用方法：Baum-Wehch 算法；\n",
    "\n",
    "> 3. 预测问题：一直模型所有参数和观测序列 $Y$ ，计算最可能的隐状态序列 $X$,常用算法：维特比算法。"
   ]
  },
  {
   "cell_type": "markdown",
   "metadata": {},
   "source": [
    "#### 概率计算问题"
   ]
  },
  {
   "cell_type": "markdown",
   "metadata": {},
   "source": [
    "> 给定条件随机场$P(Y|X)$，输入序列 $x$ 和 输出序列 $y$;\n",
    "\n",
    "> 计算条件概率\n",
    "\n",
    "$$\n",
    "    P(Y_i=y_i|x), P(Y_{i-1} = y_{i-1},Y_i = y_i|x)\n",
    "$$\n",
    "\n",
    "> 计算相应的数学期望问题；"
   ]
  },
  {
   "cell_type": "markdown",
   "metadata": {},
   "source": [
    "##### 前向-后向算法"
   ]
  },
 
  {
   "cell_type": "markdown",
   "metadata": {},
   "source": [
    "#### 学习问题"
   ]
  },
  {
   "cell_type": "markdown",
   "metadata": {},
   "source": [
    "这里主要介绍一下 BFGS 算法的思路。\n",
    "\n",
    "\n",
    "   输入：特征函数 $f_1,f_2,...,f_n$：经验分布 $\\widetilde{P}(X,Y)$；\n",
    "   \n",
    "   输出：最优参数值 $\\widehat{w}$，最优模型$P_{\\widehat{w}}(y|x)$。\n",
    "   \n",
    "   1. 选定初始点 w^{(0)}， 取 $B_0$ 为正定对称矩阵，k = 0;\n",
    "   2. 计算 $g_k = g(w^(k))$，若 $g_k = 0$ ，则停止计算，否则转 (3) ；\n",
    "   3. 利用 $B_k p_k = -g_k$ 计算 $p_k$；\n",
    "   4. 一维搜索：求 $\\lambda_k$使得\n",
    "   \n",
    "   <img src=\"img/学习问题1.png\" width = \"300\" height = \"200\" alt=\"图片名称\" align=center />\n",
    "   \n",
    "   5. 设 $w^{(k+1)} = w^{(k)} + \\lambda_k * p_k$\n",
    "   6. 计算 $g_{k+1}$ = g(w^{(k+1)}),\n",
    "   \n",
    "       若 $g_k = 0$， 则停止计算；否则，利用下面公式计算 $B_{k+1}$:\n",
    "       \n",
    "       <img src=\"img/学习问题2.png\" width = \"300\" height = \"200\" alt=\"图片名称\" align=center />\n",
    "       \n",
    "   7. 令 $k=k+1$，转步骤（3）；\n"
   ]
  },
  {
   "cell_type": "markdown",
   "metadata": {},
   "source": [
    "#### 预测问题"
   ]
  },
  {
   "cell_type": "markdown",
   "metadata": {},
   "source": [
    "对于预测问题，常用的方法是维特比算法，其思路如下：\n",
    "\n",
    "输入：模型特征向量 $F(y,x)$ 和权重向量 $w$，输入序列（观测序列） $x={x_1,x_2,...,x_n}$；\n",
    "\n",
    "输出：条件概率最大的输出序列（标记序列）$y^{*}= (y_1^*,y_2^*,...,y_n^*)$，也就是最优路径；\n",
    "\n",
    "1. 初始化\n",
    "\n",
    "<img src=\"img/预测1.png\" width = \"350\" height = \"200\" alt=\"图片名称\" align=center />\n",
    "  \n",
    "2. 递推，对$i=2,3,...,n$\n",
    "\n",
    "<img src=\"img/预测2.png\" width = \"450\" height = \"200\" alt=\"图片名称\" align=center />\n",
    "\n",
    "3. 终止\n",
    "\n",
    "<img src=\"img/预测3.png\" width = \"200\" height = \"200\" alt=\"图片名称\" align=center />\n",
    "\n",
    "4. 返回路径\n",
    "\n",
    "<img src=\"img/预测4.png\" width = \"350\" height = \"200\" alt=\"图片名称\" align=center />\n",
    "\n",
    "求得最优路径 $y^{*}= (y_1^*,y_2^*,...,y_n^*)$"
   ]
  },
  {
   "cell_type": "markdown",
   "metadata": {},
   "source": [
    "##### 例子说明"
   ]
  },
  {
   "cell_type": "markdown",
   "metadata": {},
   "source": [
    "利用维特比算法计算给定输入序列$x$ 对应的最优输出序列$y^*$：\n",
    "\n",
    "<img src=\"img/预测5.png\" width = \"200\" height = \"200\" alt=\"图片名称\" align=center />\n",
    "\n",
    "1. 初始化\n",
    "\n",
    "<img src=\"img/预测6.png\" width = \"350\" height = \"200\" alt=\"图片名称\" align=center />\n",
    "  \n",
    "2. 递推，对$i=2,3,...,n$\n",
    "\n",
    "<img src=\"img/预测11.png\" width = \"450\" height = \"200\" alt=\"图片名称\" align=center />\n",
    "\n",
    "<img src=\"img/预测8.png\" width = \"500\" height = \"200\" alt=\"图片名称\" align=center />\n",
    "\n",
    "3. 终止\n",
    "\n",
    "<img src=\"img/预测9.png\" width = \"350\" height = \"200\" alt=\"图片名称\" align=center />\n",
    "\n",
    "4. 返回路径\n",
    "\n",
    "<img src=\"img/预测10.png\" width = \"200\" height = \"200\" alt=\"图片名称\" align=center />\n",
    "\n",
    "求得最优路径 $y^{*}= (y_1^*,y_2^*,...,y_n^*) = (1,2,1)$"
   ]
  }
